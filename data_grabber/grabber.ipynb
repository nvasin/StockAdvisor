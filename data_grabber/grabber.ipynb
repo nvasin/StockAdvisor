{
 "cells": [
  {
   "cell_type": "code",
   "execution_count": 3,
   "metadata": {},
   "outputs": [],
   "source": [
    "import config\n",
    "#from fetch_yahoo_data import fetch_yahoo_data\n",
    "from fetch_moex_data import fetch_moex_data"
   ]
  },
  {
   "cell_type": "code",
   "execution_count": null,
   "metadata": {},
   "outputs": [],
   "source": [
    "#print(\"=== Получение данных с Yahoo Finance ===\")\n",
    "#fetch_yahoo_data(\n",
    "#    tickers=config.yahoo_tickers,\n",
    "#    start_date=config.yahoo_start_date,\n",
    "#    end_date=config.yahoo_end_date,\n",
    "#    interval=config.yahoo_interval,\n",
    "#    data_dir=config.data_directories['yahoo']\n",
    "#)\n",
    "#print(\"=== Данные с Yahoo Finance получены ===\")"
   ]
  },
  {
   "cell_type": "code",
   "execution_count": null,
   "metadata": {},
   "outputs": [
    {
     "name": "stdout",
     "output_type": "stream",
     "text": [
      "worker 1: загрузка LKOH [Завершено]\n",
      "worker 2: загрузка SBER [500 записей из 12400]\n",
      "worker 3: загрузка GAZP [Завершено]\n",
      "worker 4: загрузка TATN [500 записей из 37700]\n",
      "worker 5: загрузка YDEX [Завершено]\n",
      "worker 6: загрузка GMKN [Завершено]\n",
      "worker 7: загрузка TCSG [Завершено]\n",
      "worker 8: загрузка NVTK [Завершено]\n",
      "worker 9: загрузка SNGS [Завершено]\n",
      "worker 10: загрузка PLZL [Завершено]\n",
      "worker 11: загрузка SNGSP [500 записей из 11000]\n",
      "worker 12: загрузка SBERP [79 записей из 61000]\n",
      "worker 13: загрузка CHMF [500 записей из 18900]\n",
      "worker 14: загрузка IRAO [500 записей из 11200]\n",
      "worker 15: загрузка NLMK [500 записей из 20300]\n",
      "worker 16: загрузка OZON [500 записей из 8100]\n",
      "worker 17: загрузка RUAL [500 записей из 8100]\n",
      "worker 18: загрузка TATNP [500 записей из 3000]\n",
      "worker 19: загрузка MOEX [500 записей из 3000]\n",
      "worker 20: загрузка FIVE [500 записей из 2800]\n",
      "worker 21: загрузка MGNT [500 записей из 2500]\n",
      "worker 22: загрузка ALRS [500 записей из 1100]\n",
      "worker 23: загрузка MTSS [500 записей из 6700]\n",
      "worker 24: загрузка RTKM [500 записей из 1400]\n",
      "worker 25: загрузка AFLT [500 записей из 7500]\n",
      "worker 26: загрузка AGRO [500 записей из 6400]\n",
      "worker 27: загрузка VTBR [500 записей из 1400]\n",
      "worker 28: загрузка PHOR [500 записей из 2800]\n",
      "worker 29: загрузка POSI [500 записей из 600]\n",
      "worker 30: загрузка TRNFP [500 записей из 300]\n"
     ]
    }
   ],
   "source": [
    "print(\"\\n=== Получение данных с MOEX ===\")\n",
    "fetch_moex_data(\n",
    "    tickers=config.moex_tickers,\n",
    "    start_date=config.moex_start_date,\n",
    "    end_date=config.moex_end_date,\n",
    "    interval=config.moex_interval,\n",
    "    data_dir=config.data_directories['moex']\n",
    ")\n",
    "print(\"=== Данные с MOEX получены ===\")\n"
   ]
  }
 ],
 "metadata": {
  "kernelspec": {
   "display_name": "hse_year_project",
   "language": "python",
   "name": "python3"
  },
  "language_info": {
   "codemirror_mode": {
    "name": "ipython",
    "version": 3
   },
   "file_extension": ".py",
   "mimetype": "text/x-python",
   "name": "python",
   "nbconvert_exporter": "python",
   "pygments_lexer": "ipython3",
   "version": "3.13.0"
  }
 },
 "nbformat": 4,
 "nbformat_minor": 2
}
